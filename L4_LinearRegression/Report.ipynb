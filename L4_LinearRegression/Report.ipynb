{
 "cells": [
  {
   "cell_type": "markdown",
   "id": "2a26955f-b1dd-4306-9118-abf6a56a0f06",
   "metadata": {},
   "source": [
    "## Подготовка"
   ]
  },
  {
   "cell_type": "markdown",
   "id": "751300ad-4ffc-48ca-8ce1-308c8823f2f1",
   "metadata": {},
   "source": [
    "### Импорт библиотек"
   ]
  },
  {
   "cell_type": "markdown",
   "id": "9cd3a2e7-99e0-4d7e-97f1-d823a2741590",
   "metadata": {},
   "source": [
    "Анализ данных:"
   ]
  },
  {
   "cell_type": "code",
   "execution_count": 1,
   "id": "74bbaded-a310-4e05-9d95-16704e9b8516",
   "metadata": {},
   "outputs": [
    {
     "ename": "ModuleNotFoundError",
     "evalue": "No module named 'numpy'",
     "output_type": "error",
     "traceback": [
      "\u001b[0;31m---------------------------------------------------------------------------\u001b[0m",
      "\u001b[0;31mModuleNotFoundError\u001b[0m                       Traceback (most recent call last)",
      "Cell \u001b[0;32mIn[1], line 1\u001b[0m\n\u001b[0;32m----> 1\u001b[0m \u001b[38;5;28;01mimport\u001b[39;00m \u001b[38;5;21;01mnumpy\u001b[39;00m \u001b[38;5;28;01mas\u001b[39;00m \u001b[38;5;21;01mnp\u001b[39;00m\n\u001b[1;32m      2\u001b[0m \u001b[38;5;28;01mimport\u001b[39;00m \u001b[38;5;21;01mpandas\u001b[39;00m \u001b[38;5;28;01mas\u001b[39;00m \u001b[38;5;21;01mpd\u001b[39;00m\n\u001b[1;32m      3\u001b[0m \u001b[38;5;28;01mfrom\u001b[39;00m \u001b[38;5;21;01msklearn\u001b[39;00m \u001b[38;5;28;01mimport\u001b[39;00m linear_model\n",
      "\u001b[0;31mModuleNotFoundError\u001b[0m: No module named 'numpy'"
     ]
    }
   ],
   "source": [
    "import numpy as np\n",
    "import pandas as pd\n",
    "from sklearn import linear_model"
   ]
  },
  {
   "cell_type": "markdown",
   "id": "d4af93d8-1695-46d6-9808-9aecbb138772",
   "metadata": {},
   "source": [
    "Визуализация данных:"
   ]
  },
  {
   "cell_type": "code",
   "execution_count": 2,
   "id": "dd4b414b-bcf8-4324-ac22-6fee119bf14c",
   "metadata": {},
   "outputs": [
    {
     "ename": "ModuleNotFoundError",
     "evalue": "No module named 'matplotlib'",
     "output_type": "error",
     "traceback": [
      "\u001b[0;31m---------------------------------------------------------------------------\u001b[0m",
      "\u001b[0;31mModuleNotFoundError\u001b[0m                       Traceback (most recent call last)",
      "Cell \u001b[0;32mIn[2], line 1\u001b[0m\n\u001b[0;32m----> 1\u001b[0m \u001b[38;5;28;01mimport\u001b[39;00m \u001b[38;5;21;01mmatplotlib\u001b[39;00m\u001b[38;5;21;01m.\u001b[39;00m\u001b[38;5;21;01mpyplot\u001b[39;00m \u001b[38;5;28;01mas\u001b[39;00m \u001b[38;5;21;01mplt\u001b[39;00m\n\u001b[1;32m      2\u001b[0m \u001b[38;5;28;01mimport\u001b[39;00m \u001b[38;5;21;01mseaborn\u001b[39;00m \u001b[38;5;28;01mas\u001b[39;00m \u001b[38;5;21;01msns\u001b[39;00m\n",
      "\u001b[0;31mModuleNotFoundError\u001b[0m: No module named 'matplotlib'"
     ]
    }
   ],
   "source": [
    "import matplotlib.pyplot as plt\n",
    "import seaborn as sns"
   ]
  },
  {
   "cell_type": "markdown",
   "id": "98f472dd-91a2-45fa-a55e-4ed5cd32a738",
   "metadata": {},
   "source": [
    "Виджеты для JupyterNotebook:"
   ]
  },
  {
   "cell_type": "code",
   "execution_count": 3,
   "id": "84af38d6-e6cc-44c4-a2c4-8f8f7c26264b",
   "metadata": {},
   "outputs": [],
   "source": [
    "import ipywidgets as widgets\n",
    "from IPython.display import display, clear_output"
   ]
  },
  {
   "cell_type": "markdown",
   "id": "9af7a250-e36c-4fff-be79-3cfbc026f0de",
   "metadata": {},
   "source": [
    "### Глобальные переменные"
   ]
  },
  {
   "cell_type": "markdown",
   "id": "2a79b394-33a5-49cd-95e2-e21a6650a31b",
   "metadata": {},
   "source": [
    "Датасет:"
   ]
  },
  {
   "cell_type": "code",
   "execution_count": 4,
   "id": "a96f8adc-b553-454e-bb48-8c4f02fc3bfb",
   "metadata": {},
   "outputs": [
    {
     "ename": "NameError",
     "evalue": "name 'pd' is not defined",
     "output_type": "error",
     "traceback": [
      "\u001b[0;31m---------------------------------------------------------------------------\u001b[0m",
      "\u001b[0;31mNameError\u001b[0m                                 Traceback (most recent call last)",
      "Cell \u001b[0;32mIn[4], line 1\u001b[0m\n\u001b[0;32m----> 1\u001b[0m df \u001b[38;5;241m=\u001b[39m \u001b[43mpd\u001b[49m\u001b[38;5;241m.\u001b[39mread_csv(\u001b[38;5;124m\"\u001b[39m\u001b[38;5;124mrussian_demography.csv\u001b[39m\u001b[38;5;124m\"\u001b[39m, delimiter\u001b[38;5;241m=\u001b[39m\u001b[38;5;124m\"\u001b[39m\u001b[38;5;124m,\u001b[39m\u001b[38;5;124m\"\u001b[39m)\n",
      "\u001b[0;31mNameError\u001b[0m: name 'pd' is not defined"
     ]
    }
   ],
   "source": [
    "df = pd.read_csv(\"russian_demography.csv\", delimiter=\",\")"
   ]
  },
  {
   "cell_type": "markdown",
   "id": "06606349-8de7-447f-b871-e0d888c13aec",
   "metadata": {},
   "source": [
    "Обновляемый виджет-дисплей:"
   ]
  },
  {
   "cell_type": "code",
   "execution_count": 5,
   "id": "f0cc253d-3798-43c5-b6ba-db66a98835e1",
   "metadata": {},
   "outputs": [],
   "source": [
    "out = widgets.Output()"
   ]
  },
  {
   "cell_type": "markdown",
   "id": "45ac2baf-f065-44ac-89b3-65aa18b83a66",
   "metadata": {},
   "source": [
    "## Вспомогательные функции"
   ]
  },
  {
   "cell_type": "markdown",
   "id": "49016640-7e73-4f53-be47-e4d13762fba4",
   "metadata": {},
   "source": [
    "### `gen_dfs(data, region, metric, year_to_predict)`"
   ]
  },
  {
   "cell_type": "markdown",
   "id": "c3753ce7-3e4d-465a-a379-4bac0865ade2",
   "metadata": {},
   "source": [
    "Генерирует наборы данных для визуализации.\n",
    "\n",
    "__Принимает:__\n",
    "1. Загруженный выше `df`\n",
    "2. Регион\n",
    "3. Требуемую метрику\n",
    "4. Год, до которого строить прогноз.\n",
    "\n",
    "__Возвращает наборы данных:__\n",
    "1. С измерениями из `df`\n",
    "2. С прогнозами по `df`\n",
    "3. Объединенный набор данных"
   ]
  },
  {
   "cell_type": "code",
   "execution_count": 6,
   "id": "1132dee1-63ee-43c8-9a5a-19abb1aa6b32",
   "metadata": {},
   "outputs": [],
   "source": [
    "def gen_dfs(data, region, metric, year_to_predict):\n",
    "    sr_df = df.loc[df[\"region\"] == region].dropna()\n",
    "    x = np.array(sr_df[\"year\"]).reshape(-1, 1)\n",
    "    y = np.array(sr_df[metric]).reshape(-1, 1)\n",
    "\n",
    "    regr = linear_model.LinearRegression()\n",
    "    regr.fit(X=x, y=y)\n",
    "    \n",
    "    x_future = np.array([year + 1 for year in range(sr_df[\"year\"].max(), year_to_predict)]).reshape(-1, 1)\n",
    "    y_future = regr.predict(x_future)\n",
    "\n",
    "    c_df = pd.DataFrame({\"year\": x.flatten(), metric: y.flatten()})\n",
    "    p_df = pd.DataFrame({\"year\": x_future.flatten(), metric: y_future.flatten()})\n",
    "    u_df = pd.DataFrame({\"year\": np.append(x, x_future), metric: np.append(y, y_future)})\n",
    "\n",
    "    return c_df, p_df, u_df    "
   ]
  },
  {
   "cell_type": "markdown",
   "id": "8131537c-be12-40a7-beb5-7d7b43757dea",
   "metadata": {},
   "source": [
    "### `draw(c_df, p_df, u_df, region)`"
   ]
  },
  {
   "cell_type": "markdown",
   "id": "4d60bc97-6ae2-4c2d-8a78-c57b347814e8",
   "metadata": {},
   "source": [
    "Визуализирует текущие измерения и прогноз на одном графике.\n",
    "\n",
    "__Принимает в себя:__\n",
    "1. Набор данных с измерениями из `df`\n",
    "2. Набор данных с прогнозами по `df`\n",
    "3. Объединенный набор данных"
   ]
  },
  {
   "cell_type": "code",
   "execution_count": 7,
   "id": "f79bf65e-b6c2-4857-b708-ef4d25f3c881",
   "metadata": {},
   "outputs": [],
   "source": [
    "def draw(c_df, p_df, u_df, region):\n",
    "    with out:\n",
    "        clear_output(True)\n",
    "        fig, ax = plt.subplots(figsize=(10, 6))\n",
    "        fig.suptitle(f\"Visualization of the forecast for {region}\")\n",
    "        ax.set(xticks=u_df[\"year\"].values)\n",
    "        \n",
    "        sns.scatterplot(ax=ax, data=c_df, x=c_df.columns[0], y=c_df.columns[1], color=\"blue\")\n",
    "        sns.scatterplot(ax=ax, data=p_df, x=p_df.columns[0], y=p_df.columns[1], color=\"red\")\n",
    "        sns.lineplot(ax=ax, data=u_df, x=u_df.columns[0], y=u_df.columns[1], color=\"gray\", errorbar=None)\n",
    "\n",
    "        plt.xticks(rotation=75)\n",
    "        plt.grid()\n",
    "        plt.show()"
   ]
  },
  {
   "cell_type": "markdown",
   "id": "49d34418-196e-4dc2-9755-6961efd59a25",
   "metadata": {},
   "source": [
    "## Виджеты"
   ]
  },
  {
   "cell_type": "code",
   "execution_count": 8,
   "id": "16fc623b-0ee3-4c47-93e5-3ecf22b65646",
   "metadata": {},
   "outputs": [
    {
     "data": {
      "application/vnd.jupyter.widget-view+json": {
       "model_id": "543b2878b586480887aa22d0c727d250",
       "version_major": 2,
       "version_minor": 0
      },
      "text/plain": [
       "VBox(children=(HBox(children=(Dropdown(description='Регион: ', options=('Republic of Adygea', 'Altai Krai', 'A…"
      ]
     },
     "metadata": {},
     "output_type": "display_data"
    },
    {
     "data": {
      "application/vnd.jupyter.widget-view+json": {
       "model_id": "c3c6008a22a744a5b6417a868c0632f6",
       "version_major": 2,
       "version_minor": 0
      },
      "text/plain": [
       "Output()"
      ]
     },
     "execution_count": 8,
     "metadata": {},
     "output_type": "execute_result"
    }
   ],
   "source": [
    "wRegion = widgets.Dropdown(\n",
    "    options=df[\"region\"].unique(),\n",
    "    description=\"Регион: \",\n",
    ")\n",
    "\n",
    "wMetric = widgets.Dropdown(\n",
    "    options=df.columns[2:],\n",
    "    description=\"Метрика: \",\n",
    ")\n",
    "\n",
    "wYears = widgets.IntSlider(\n",
    "    min=df[\"year\"].max() + 1,\n",
    "    max=df[\"year\"].max() + 20,\n",
    "    description=\"Прогноз до:\",\n",
    "    style={\"description_width\": \"initial\"}\n",
    ")\n",
    "\n",
    "def on_btn_click(b):\n",
    "    c_df, p_df, u_df = gen_dfs(data=df,region=wRegion.value,\n",
    "                               metric=wMetric.value,\n",
    "                               year_to_predict=wYears.value)\n",
    "    draw(c_df, p_df, u_df, wRegion.value)\n",
    "    \n",
    "wBtnDraw = widgets.Button(\n",
    "    description=\"График\"\n",
    ")\n",
    "\n",
    "wBtnDraw.on_click(on_btn_click)\n",
    "\n",
    "hBoxUp = widgets.HBox([wRegion, wMetric])\n",
    "hBoxMid = widgets.HBox([wYears])\n",
    "hBoxDown = widgets.HBox([wBtnDraw])\n",
    "vBox = widgets.VBox([hBoxUp, hBoxMid, hBoxDown])\n",
    "\n",
    "display(vBox)\n",
    "out"
   ]
  },
  {
   "cell_type": "code",
   "execution_count": null,
   "id": "c5ec5055-6e5b-4d2b-8225-eebabfc929ad",
   "metadata": {},
   "outputs": [],
   "source": []
  }
 ],
 "metadata": {
  "kernelspec": {
   "display_name": "Python 3 (ipykernel)",
   "language": "python",
   "name": "python3"
  },
  "language_info": {
   "codemirror_mode": {
    "name": "ipython",
    "version": 3
   },
   "file_extension": ".py",
   "mimetype": "text/x-python",
   "name": "python",
   "nbconvert_exporter": "python",
   "pygments_lexer": "ipython3",
   "version": "3.12.0"
  }
 },
 "nbformat": 4,
 "nbformat_minor": 5
}
