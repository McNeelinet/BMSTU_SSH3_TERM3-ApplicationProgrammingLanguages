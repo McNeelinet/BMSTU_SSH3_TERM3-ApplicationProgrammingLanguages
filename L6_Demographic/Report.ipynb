{
 "cells": [
  {
   "cell_type": "markdown",
   "id": "7323d547-d52f-464f-a1b3-eddd7a0c198c",
   "metadata": {},
   "source": [
    "# Моделирование, работа с файлами и интеграция между двумя ЯП"
   ]
  },
  {
   "cell_type": "markdown",
   "id": "1bad5ff6-de0a-44dc-9e14-50f5eae7fc8f",
   "metadata": {},
   "source": [
    "## Подготовка"
   ]
  },
  {
   "cell_type": "markdown",
   "id": "e1f4cc83-82e7-4aec-aa20-5a563b1fce56",
   "metadata": {},
   "source": [
    "### Импорт библиотек"
   ]
  },
  {
   "cell_type": "markdown",
   "id": "c954a2a6-f36a-4644-a8a7-89a51bc1be87",
   "metadata": {},
   "source": [
    "Анализ данных:"
   ]
  },
  {
   "cell_type": "code",
   "execution_count": 1,
   "id": "c9816d65-ef36-48c2-a70f-96a03a74e112",
   "metadata": {},
   "outputs": [],
   "source": [
    "import numpy as np\n",
    "import pandas as pd\n",
    "from scipy.interpolate import make_interp_spline"
   ]
  },
  {
   "cell_type": "markdown",
   "id": "f5293985-adc0-4fe0-b2ea-99c318cd30df",
   "metadata": {},
   "source": [
    "Визуализация данных:"
   ]
  },
  {
   "cell_type": "code",
   "execution_count": 2,
   "id": "758bea88-0c88-4d92-a3bd-a9b04a335634",
   "metadata": {},
   "outputs": [],
   "source": [
    "import matplotlib.pyplot as plt\n",
    "import seaborn as sns"
   ]
  },
  {
   "cell_type": "markdown",
   "id": "35efa41e-214d-482f-81b4-4cfbd69c0f7b",
   "metadata": {},
   "source": [
    "Виджеты для JupyterNotebook:"
   ]
  },
  {
   "cell_type": "code",
   "execution_count": 3,
   "id": "be13df85-4279-4e74-8470-9e8b0cbf6739",
   "metadata": {},
   "outputs": [],
   "source": [
    "import ipywidgets as widgets\n",
    "from IPython.display import display, clear_output\n",
    "from ipyfilechooser import FileChooser"
   ]
  },
  {
   "cell_type": "markdown",
   "id": "b09a4f9b-5d1e-4ece-aa36-e17f7455bac3",
   "metadata": {},
   "source": [
    "Работа с процессами:"
   ]
  },
  {
   "cell_type": "code",
   "execution_count": 4,
   "id": "f91542df-792d-4bf1-97ea-ebb8d6df5fe8",
   "metadata": {},
   "outputs": [],
   "source": [
    "import subprocess"
   ]
  },
  {
   "cell_type": "markdown",
   "id": "21dc5250-2ffb-4d2a-9124-0a09e1388785",
   "metadata": {},
   "source": [
    "### Глобальные переменные"
   ]
  },
  {
   "cell_type": "code",
   "execution_count": 5,
   "id": "5ef8fb4b-bf32-4bf6-a7ee-2bf014e1df2e",
   "metadata": {},
   "outputs": [],
   "source": [
    "EXE_PATH = \"Demographic.Exec/bin/Release/net7.0/linux-x64/Demographic.Exec\"\n",
    "out = widgets.Output()"
   ]
  },
  {
   "cell_type": "markdown",
   "id": "452c1f44-8103-4e74-afdc-6d092994639a",
   "metadata": {},
   "source": [
    "## Вспомогательные функции"
   ]
  },
  {
   "cell_type": "markdown",
   "id": "40c85420-2565-4760-845c-b042db2fcbaf",
   "metadata": {},
   "source": [
    "`draw_male_dynamic(df_male_dynamic)`"
   ]
  },
  {
   "cell_type": "markdown",
   "id": "6aae29b9-81fb-4d50-94c8-24dd82d9d107",
   "metadata": {},
   "source": [
    "Визуализирует график изменения населения мужского пола в виде `splinechart`."
   ]
  },
  {
   "cell_type": "code",
   "execution_count": 6,
   "id": "248db100-111b-403f-aaf4-ec2d3fca8b7c",
   "metadata": {},
   "outputs": [],
   "source": [
    "def draw_male_dynamic(df_male_dynamic):\n",
    "    x = df_male_dynamic[\"Year\"]\n",
    "    y = df_male_dynamic[\" Count\"]\n",
    "\n",
    "    X_Y_Spline = make_interp_spline(x, y)\n",
    "\n",
    "    X_ = np.linspace(x.min(), x.max(), 500)\n",
    "    Y_ = X_Y_Spline(X_)\n",
    "\n",
    "    \n",
    "    fig, ax = plt.subplots(figsize=(10, 6))\n",
    "    fig.suptitle(\"Изменение мужского населения\")\n",
    "    \n",
    "    plt.plot(X_, Y_)\n",
    "    plt.xlabel(\"Год\")\n",
    "    plt.ylabel(\"Количество (тыс. человек)\")\n",
    "\n",
    "    plt.grid()\n",
    "    plt.show()"
   ]
  },
  {
   "cell_type": "markdown",
   "id": "c680e82f-a701-4aa4-8764-83bedbfc7653",
   "metadata": {},
   "source": [
    "`draw_female_dynamic(df_female_dynamic)`"
   ]
  },
  {
   "cell_type": "markdown",
   "id": "8e73514c-e470-4470-b4b2-7c65b6e95e85",
   "metadata": {},
   "source": [
    "Визуализирет график изменения населения женского пола в виде `splinechart`."
   ]
  },
  {
   "cell_type": "code",
   "execution_count": 7,
   "id": "7f60f022-650c-4ac8-9266-34ca07110841",
   "metadata": {},
   "outputs": [],
   "source": [
    "def draw_female_dynamic(df_female_dynamic):\n",
    "    x = df_female_dynamic[\"Year\"]\n",
    "    y = df_female_dynamic[\" Count\"]\n",
    "\n",
    "    X_Y_Spline = make_interp_spline(x, y)\n",
    "\n",
    "    X_ = np.linspace(x.min(), x.max(), 500)\n",
    "    Y_ = X_Y_Spline(X_)\n",
    "\n",
    "    \n",
    "    fig, ax = plt.subplots(figsize=(10, 6))\n",
    "    fig.suptitle(\"Изменение женского населения\")\n",
    "    \n",
    "    plt.plot(X_, Y_)\n",
    "    plt.xlabel(\"Год\")\n",
    "    plt.ylabel(\"Количество (тыс. человек)\")\n",
    "\n",
    "    plt.grid()\n",
    "    plt.show()"
   ]
  },
  {
   "cell_type": "markdown",
   "id": "45452271-1755-49b1-bcd3-6110e219be4d",
   "metadata": {},
   "source": [
    "`draw_united_dynamic(df_male_dynamic, df_female_dynamic)`"
   ]
  },
  {
   "cell_type": "markdown",
   "id": "b669fabe-a169-4178-853f-0e23a7ebc9bd",
   "metadata": {},
   "source": [
    "Визуализирует график изменения общего населения в виде `splinechart`."
   ]
  },
  {
   "cell_type": "code",
   "execution_count": 8,
   "id": "e61734b4-c58a-4635-b314-77e5408deffe",
   "metadata": {},
   "outputs": [],
   "source": [
    "def draw_united_dynamic(df_male_dynamic, df_female_dynamic):\n",
    "    df_united_dynamic = pd.DataFrame({ \"Year\": df_male_dynamic[\"Year\"], \" Count\": df_male_dynamic[\" Count\"] + df_female_dynamic[\" Count\"] })\n",
    "\n",
    "    x = df_united_dynamic[\"Year\"]\n",
    "    y = df_united_dynamic[\" Count\"]\n",
    "\n",
    "    X_Y_Spline = make_interp_spline(x, y)\n",
    "\n",
    "    X_ = np.linspace(x.min(), x.max(), 500)\n",
    "    Y_ = X_Y_Spline(X_)\n",
    "\n",
    "    \n",
    "    fig, ax = plt.subplots(figsize=(10, 6))\n",
    "    fig.suptitle(\"Изменение общего населения\")\n",
    "    \n",
    "    plt.plot(X_, Y_)\n",
    "    plt.xlabel(\"Год\")\n",
    "    plt.ylabel(\"Количество (тыс. человек)\")\n",
    "\n",
    "    plt.grid()\n",
    "    plt.show()"
   ]
  },
  {
   "cell_type": "markdown",
   "id": "0ff20d4e-bc26-4b41-9553-fbccc603b43c",
   "metadata": {},
   "source": [
    "`draw_male_age_distribution(df_male_age_distribution)`"
   ]
  },
  {
   "cell_type": "markdown",
   "id": "2d74586b-d225-497f-a714-48ecf8a15b0d",
   "metadata": {},
   "source": [
    "Визуализирует возрастной состав населения мужского пола в виде `barchart`."
   ]
  },
  {
   "cell_type": "code",
   "execution_count": 9,
   "id": "97aa3b39-0400-4355-a52b-7833b61af4f8",
   "metadata": {},
   "outputs": [],
   "source": [
    "def draw_male_age_distribution(df_male_age_distribution):\n",
    "    age_groups = {0: \"0-18 лет\",\n",
    "                  1: \"19-45 лет\",\n",
    "                  2: \"46-65 лет\",\n",
    "                  3: \"66-100 лет\"}\n",
    "    df_male_age_distribution[\"Age group\"] = pd.cut(df_male_age_distribution[\"Age\"], bins=[0, 18, 45, 65, 100], labels=age_groups.values())\n",
    "    df_age_count_grouped_male = pd.DataFrame([df_male_age_distribution.groupby(\"Age group\", observed=True)[\" Count\"].sum()])\n",
    "\n",
    "    fig, ax = plt.subplots(figsize=(10, 6))\n",
    "    fig.suptitle(\"Возрастной состав мужского населения\")\n",
    "\n",
    "    sns.barplot(data=df_age_count_grouped_male, errorbar=None)\n",
    "    ax.set(xlabel=\"Возрастная группа\", ylabel=\"Количество (тыс. человек)\")\n",
    "\n",
    "    plt.show()"
   ]
  },
  {
   "cell_type": "markdown",
   "id": "a49da1bb-17ff-4d4a-9655-78819613d081",
   "metadata": {},
   "source": [
    "`draw_female_age_distribution(df_female_age_distribution)`"
   ]
  },
  {
   "cell_type": "markdown",
   "id": "8565d013-a063-4dc9-a729-35e57ba93342",
   "metadata": {},
   "source": [
    "Визуализирует возрастной состав населения женского пола в виде `barchart`."
   ]
  },
  {
   "cell_type": "code",
   "execution_count": 10,
   "id": "5646622a-e274-4f97-877a-a2a1ab1e4836",
   "metadata": {},
   "outputs": [],
   "source": [
    "def draw_female_age_distribution(df_female_age_distribution):\n",
    "    age_groups = {0: \"0-18 лет\",\n",
    "                  1: \"19-45 лет\",\n",
    "                  2: \"46-65 лет\",\n",
    "                  3: \"66-100 лет\"}\n",
    "    df_female_age_distribution[\"Age group\"] = pd.cut(df_female_age_distribution[\"Age\"], bins=[0, 18, 45, 65, 100], labels=age_groups.values())\n",
    "    df_age_count_grouped_female = pd.DataFrame([df_female_age_distribution.groupby(\"Age group\", observed=True)[\" Count\"].sum()])\n",
    "\n",
    "    fig, ax = plt.subplots(figsize=(10, 6))\n",
    "    fig.suptitle(\"Возрастной состав женского населения\")\n",
    "\n",
    "    sns.barplot(data=df_age_count_grouped_female, errorbar=None)\n",
    "    ax.set(xlabel=\"Возрастная группа\", ylabel=\"Количество (тыс. человек)\")\n",
    "\n",
    "    plt.show()"
   ]
  },
  {
   "cell_type": "markdown",
   "id": "3fd7436f-1fb0-4d49-81ea-53b8d9cc2cf9",
   "metadata": {},
   "source": [
    "`draw()`"
   ]
  },
  {
   "cell_type": "markdown",
   "id": "effbef50-790d-4c0d-96ab-2a4f432ee4f2",
   "metadata": {},
   "source": [
    "Визуализирует все графики используя файлы с данными."
   ]
  },
  {
   "cell_type": "code",
   "execution_count": 12,
   "id": "374580ce-655d-49f9-9b78-9fdaf12bafdd",
   "metadata": {},
   "outputs": [],
   "source": [
    "def draw():\n",
    "    with out:\n",
    "        clear_output(True)\n",
    "        df_male_dynamic = pd.read_csv(\"MalesDynamic.csv\", delimiter=\",\")\n",
    "        df_female_dynamic = pd.read_csv(\"FemalesDynamic.csv\", delimiter=\",\")\n",
    "        df_male_age_distribution = pd.read_csv(\"MaleAgeDistribution.csv\", delimiter=\",\")\n",
    "        df_female_age_distribution = pd.read_csv(\"FemaleAgeDistribution.csv\", delimiter=\",\")\n",
    "\n",
    "        draw_male_dynamic(df_male_dynamic)\n",
    "        draw_female_dynamic(df_female_dynamic)\n",
    "        draw_united_dynamic(df_male_dynamic, df_female_dynamic)\n",
    "        draw_male_age_distribution(df_male_age_distribution)\n",
    "        draw_female_age_distribution(df_female_age_distribution)\n",
    "\n",
    "#draw()\n",
    "#out"
   ]
  },
  {
   "cell_type": "markdown",
   "id": "440c2506-d3c2-4b8c-8cce-3f7a750ea1fa",
   "metadata": {},
   "source": [
    "## Виджеты"
   ]
  },
  {
   "cell_type": "code",
   "execution_count": 13,
   "id": "e2652ada-047d-4c67-9f84-61e1a2bb626a",
   "metadata": {},
   "outputs": [
    {
     "data": {
      "application/vnd.jupyter.widget-view+json": {
       "model_id": "737f44991fb34ef9843c099f8433a38b",
       "version_major": 2,
       "version_minor": 0
      },
      "text/plain": [
       "VBox(children=(FileChooser(path='/home/mcneelinet/Documents/2Projects/Programming/Demographic', filename='', t…"
      ]
     },
     "metadata": {},
     "output_type": "display_data"
    },
    {
     "data": {
      "application/vnd.jupyter.widget-view+json": {
       "model_id": "83979ee5d60d4cba91842a04efc79053",
       "version_major": 2,
       "version_minor": 0
      },
      "text/plain": [
       "Output(outputs=({'output_type': 'display_data', 'data': {'text/plain': '<Figure size 1000x600 with 1 Axes>', '…"
      ]
     },
     "execution_count": 13,
     "metadata": {},
     "output_type": "execute_result"
    }
   ],
   "source": [
    "wInitialAge = FileChooser(\n",
    "    title = \"InitialAge filepath:\",\n",
    "    filter_pattern = \"InitialAge.csv\"\n",
    ")\n",
    "\n",
    "wDeathRules = FileChooser(\n",
    "    title = \"DeathRules filepath:\",\n",
    "    filter_pattern = \"DeathRules.csv\"\n",
    ")\n",
    "\n",
    "wRelationshipRules = FileChooser(\n",
    "    title = \"RelationshipRules filepath:\",\n",
    "    filter_pattern = \"RelationshipRules.csv\"\n",
    ")\n",
    "\n",
    "wYears = widgets.IntRangeSlider(\n",
    "    value=[1970, 2021],\n",
    "    min=1950,\n",
    "    max=2070,\n",
    "    description=\"Годы прогноза:\",\n",
    "    layout = widgets.Layout(width=\"90%\"),\n",
    "    style={\"description_width\": \"initial\"}\n",
    ")\n",
    "\n",
    "\n",
    "wPopulation = widgets.IntSlider(\n",
    "    value = 130000,\n",
    "    min=100000,\n",
    "    max=200000000,\n",
    "    description=\"Популяция:\",\n",
    "    layout = widgets.Layout(width=\"90%\"),\n",
    "    style={\"description_width\": \"initial\"},\n",
    ")\n",
    "\n",
    "wWarnings = widgets.Label()\n",
    "\n",
    "def on_btn_click(b):\n",
    "    wWarnings.value = \"\"\n",
    "    if None in (wInitialAge.value, wDeathRules.value, wRelationshipRules.value):\n",
    "        wWarnings.value = \"Укажите путь к файлам InitialAge, DeathRules и RelationshipRules\"\n",
    "        return\n",
    "    wWarnings.value = \"Я не завис, пожалуйста подождите\"\n",
    "    complete = subprocess.run([EXE_PATH, wInitialAge.value, wDeathRules.value, wRelationshipRules.value,\n",
    "                    str(wYears.value[0]), str(wYears.value[1]),\n",
    "                    str(wPopulation.value)])\n",
    "    if complete.returncode == 0:\n",
    "        draw()\n",
    "        wWarnings.value = \"Готово!\"\n",
    "    else:\n",
    "        wWarnings.value = \"Что-то пошло не так...\"\n",
    "\n",
    "wBtnDraw = widgets.Button(\n",
    "    description=\"График\"\n",
    ")\n",
    "\n",
    "wBtnDraw.on_click(on_btn_click)\n",
    "\n",
    "vBox = widgets.VBox([wInitialAge, wDeathRules, wRelationshipRules, wYears, wPopulation, wBtnDraw, wWarnings])\n",
    "\n",
    "display(vBox)\n",
    "out"
   ]
  },
  {
   "cell_type": "code",
   "execution_count": null,
   "id": "a1ba075d-fd37-4de5-b024-d1dadaaf24ce",
   "metadata": {},
   "outputs": [],
   "source": []
  }
 ],
 "metadata": {
  "kernelspec": {
   "display_name": "Demographic",
   "language": "python",
   "name": "demographic"
  },
  "language_info": {
   "codemirror_mode": {
    "name": "ipython",
    "version": 3
   },
   "file_extension": ".py",
   "mimetype": "text/x-python",
   "name": "python",
   "nbconvert_exporter": "python",
   "pygments_lexer": "ipython3",
   "version": "3.12.0"
  }
 },
 "nbformat": 4,
 "nbformat_minor": 5
}
